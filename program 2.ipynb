{
 "cells": [
  {
   "cell_type": "code",
   "execution_count": null,
   "metadata": {},
   "outputs": [
    {
     "name": "stdout",
     "output_type": "stream",
     "text": [
      "Write 0 to stop the program\n",
      "\n",
      "WELCOME, How many numbers do you want to introduce?25\n",
      "\n",
      "WELCOME, How many numbers do you want to introduce?35\n",
      "Values [25, 35]\n",
      "Prom 30.0\n",
      "Deviation 7.0710678118654755\n",
      "Variance 50.0\n"
     ]
    }
   ],
   "source": [
    "i,t,l,op, = 0,0,0,0\n",
    "value = []\n",
    "print(\"Write 0 to stop the program\")\n",
    "while i < 1:\n",
    "    va = int(input(\"\\nWELCOME, How many numbers do you want to introduce?\"))\n",
    "    if va== 0:\n",
    "        break\n",
    "    value.append(va)\n",
    "    t += va\n",
    "    l += 1 \n",
    "    if  l== 1:\n",
    "        va= int(input(\"\\nWELCOME, How many numbers do you want to introduce?\"))\n",
    "        value.append(va)\n",
    "        t += va\n",
    "        l += 1    \n",
    "    prom = t/l   \n",
    "    for x in value:\n",
    "        op += ((x-prom)**2)   \n",
    "    variance = (op/(l-1))\n",
    "    deviation=(variance**.5)\n",
    "    print(\"Values\",value)\n",
    "    print(\"Prom\",prom)\n",
    "    print(\"Deviation\",deviation)\n",
    "    print(\"Variance\",variance)"
   ]
  },
  {
   "cell_type": "code",
   "execution_count": null,
   "metadata": {},
   "outputs": [],
   "source": []
  }
 ],
 "metadata": {
  "kernelspec": {
   "display_name": "Python 3",
   "language": "python",
   "name": "python3"
  },
  "language_info": {
   "codemirror_mode": {
    "name": "ipython",
    "version": 3
   },
   "file_extension": ".py",
   "mimetype": "text/x-python",
   "name": "python",
   "nbconvert_exporter": "python",
   "pygments_lexer": "ipython3",
   "version": "3.8.3"
  }
 },
 "nbformat": 4,
 "nbformat_minor": 4
}
